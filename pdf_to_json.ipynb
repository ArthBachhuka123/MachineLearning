{
  "nbformat": 4,
  "nbformat_minor": 0,
  "metadata": {
    "colab": {
      "provenance": [],
      "authorship_tag": "ABX9TyOzNuRaQD/vPqjjGnI8Stsa",
      "include_colab_link": true
    },
    "kernelspec": {
      "name": "python3",
      "display_name": "Python 3"
    },
    "language_info": {
      "name": "python"
    }
  },
  "cells": [
    {
      "cell_type": "markdown",
      "metadata": {
        "id": "view-in-github",
        "colab_type": "text"
      },
      "source": [
        "<a href=\"https://colab.research.google.com/github/ArthBachhuka123/MachineLearning/blob/main/pdf_to_json.ipynb\" target=\"_parent\"><img src=\"https://colab.research.google.com/assets/colab-badge.svg\" alt=\"Open In Colab\"/></a>"
      ]
    },
    {
      "cell_type": "code",
      "execution_count": 3,
      "metadata": {
        "colab": {
          "base_uri": "https://localhost:8080/"
        },
        "id": "u5dsgX9_cHhd",
        "outputId": "fe66f73a-0357-4d9f-8e14-e87f415e7eb7"
      },
      "outputs": [
        {
          "output_type": "stream",
          "name": "stdout",
          "text": [
            "Requirement already satisfied: pdfplumber in /usr/local/lib/python3.12/dist-packages (0.11.7)\n",
            "Requirement already satisfied: pdfminer.six==20250506 in /usr/local/lib/python3.12/dist-packages (from pdfplumber) (20250506)\n",
            "Requirement already satisfied: Pillow>=9.1 in /usr/local/lib/python3.12/dist-packages (from pdfplumber) (11.3.0)\n",
            "Requirement already satisfied: pypdfium2>=4.18.0 in /usr/local/lib/python3.12/dist-packages (from pdfplumber) (4.30.0)\n",
            "Requirement already satisfied: charset-normalizer>=2.0.0 in /usr/local/lib/python3.12/dist-packages (from pdfminer.six==20250506->pdfplumber) (3.4.3)\n",
            "Requirement already satisfied: cryptography>=36.0.0 in /usr/local/lib/python3.12/dist-packages (from pdfminer.six==20250506->pdfplumber) (43.0.3)\n",
            "Requirement already satisfied: cffi>=1.12 in /usr/local/lib/python3.12/dist-packages (from cryptography>=36.0.0->pdfminer.six==20250506->pdfplumber) (2.0.0)\n",
            "Requirement already satisfied: pycparser in /usr/local/lib/python3.12/dist-packages (from cffi>=1.12->cryptography>=36.0.0->pdfminer.six==20250506->pdfplumber) (2.23)\n"
          ]
        },
        {
          "output_type": "stream",
          "name": "stderr",
          "text": [
            "WARNING:pdfminer.pdfinterp:Cannot set gray non-stroke color because /'P1' is an invalid float value\n",
            "WARNING:pdfminer.pdfinterp:Cannot set gray non-stroke color because /'P2' is an invalid float value\n",
            "WARNING:pdfminer.pdfinterp:Cannot set gray non-stroke color because /'P3' is an invalid float value\n",
            "WARNING:pdfminer.pdfinterp:Cannot set gray non-stroke color because /'P4' is an invalid float value\n"
          ]
        },
        {
          "output_type": "stream",
          "name": "stdout",
          "text": [
            "[{'page': 1, 'content': 'Get started with\\nMicrosoft OneDrive\\nSave your files to OneDrive to keep them protected,\\nbacked up, and accessible from all your devices, anywhere.'}, {'page': 2, 'content': 'Anywhere access\\nWith OneDrive.com and the\\n\\nOneDrive mobile app you can\\ncreate, access and edit your files\\nfrom all your devices, virtually\\nanywhere you happen to be.\\nCloud storage\\nOneDrive provides one secured\\nplace for your files and photos.\\nStart with 5 GB of free storage or\\nupgrade to Microsoft 365 for 1 TB.\\n\\nLearn how to upload files\\nPC folder backup\\nTurn on PC folder backup to\\nautomatically back up and sync\\nyour Desktop, Documents, and\\nPictures folders to OneDrive.\\n\\nHow to set up PC folder backup'}, {'page': 3, 'content': 'Office integration\\nOneDrive works seamlessly with\\nOffice for the web. Use Word,\\nPowerPoint, and Excel for free to\\neasily create, edit, and share files.\\nLearn how to use Office for the web\\nShare and collaborate\\nShare documents, folders, and\\nphotos with anyone. They don’t\\nneed an account to view, edit or\\ncollaborate in real-time on the file.\\n\\nLearn how to share files\\nSecurity\\nWith security features like Personal\\nVault, Ransomware detection and\\nrecovery,1 and file encryption your\\nwork and memories are always secured.\\n1Requires a Microsoft 365 Personal or Family subscription.'}, {'page': 4, 'content': 'Get more features\\nwith the mobile app\\nAutomatic camera\\nroll backup\\nAutomatically back up your\\nphone’s photos and videos\\nso you never lose a memory.\\n\\nLearn more: iOS or Android\\nScan and save\\npaper documents\\nUse your phone to scan and\\nstore paper documents,\\nreceipts or whiteboard notes\\nin your OneDrive.\\n\\nLearn more: iOS or Android\\nFor more information about OneDrive visit the OneDrive help center'}, {'page': 5, 'content': 'Be more creative, organized and secure with\\nMicrosoft 365\\nAccess, edit, and share files with\\n1 TB of OneDrive cloud storage.\\n\\n\\nProtect your files and photos with\\nadvanced security.\\n\\n\\nGet premium apps like Word, Excel,\\nPowerPoint and more for all your devices.\\nFor more about Microsoft 365\\nvisit OneDrive plans'}]\n",
            "<class 'list'>\n",
            "✅ JSON file created\n"
          ]
        }
      ],
      "source": [
        "! pip install pdfplumber\n",
        "import pdfplumber\n",
        "import json\n",
        "\n",
        "pdf_path = \"/content/Getting started with OneDrive.pdf\"\n",
        "data = []\n",
        "\n",
        "with pdfplumber.open(pdf_path) as pdf:\n",
        "    for i, page in enumerate(pdf.pages):\n",
        "        text = page.extract_text()\n",
        "        data.append({\"page\": i+1, \"content\": text})\n",
        "\n",
        "# Save JSON locally\n",
        "with open(\"output.json\", \"w\", encoding=\"utf-8\") as f:\n",
        "    json.dump(data, f, ensure_ascii=False, indent=4)\n",
        "with open(\"output.json\",\"r\") as f:\n",
        "    data = json.load(f)\n",
        "    print(data)\n",
        "    print(type(data))\n",
        "print(\"✅ JSON file created\")"
      ]
    },
    {
      "cell_type": "code",
      "source": [
        "class Student :\n",
        "  def __init__(self,fname,lname,age,subject):\n",
        "    self.fname=fname\n",
        "    self.lname=lname\n",
        "    self.age=age\n",
        "    self.subject=subject\n",
        "student = Student(\"Arth\",\"Bachhuka\",19,\"Computer\")\n",
        "def student_obj(student):\n",
        "  if(isinstance(student,Student)):\n",
        "    return f\"{student.fname} {student.lname} , age is -> {student.age} and he is studying {student.subject}\"\n",
        "import json\n",
        "\n",
        "with open(\"student.json\",\"w\") as f:\n",
        "  json.dump(student,f,default=student_obj)"
      ],
      "metadata": {
        "id": "_AUcwzG8cS14"
      },
      "execution_count": 7,
      "outputs": []
    },
    {
      "cell_type": "markdown",
      "source": [
        "# Pickling\n",
        "\n",
        "process where object is converted to binary files\n",
        "\n",
        "that means it is transferable\n",
        "\n",
        "**Conclusion**\n",
        "- pickle allows to read and write data in binary format\n",
        "- json allows to read and write in text format (dict,strings etc.)"
      ],
      "metadata": {
        "id": "V7qjML1u9O3f"
      }
    },
    {
      "cell_type": "code",
      "source": [
        "class person :\n",
        "  def __init__(self,name,age):\n",
        "    self.name= name\n",
        "    self.age = age\n",
        "p = person(\"Arth\",19)\n",
        "def info(p):\n",
        "  return f\"{p.name} is {p.age} years old\"\n",
        "import pickle\n",
        "with open(\"person.pkl\",\"wb\") as f:\n",
        "  pickle.dump(info(p),f)"
      ],
      "metadata": {
        "id": "WiYcojf29Qqj"
      },
      "execution_count": 13,
      "outputs": []
    },
    {
      "cell_type": "code",
      "source": [
        "import pickle\n",
        "with open(\"person.pkl\",\"rb\") as f:\n",
        " p =  pickle.load(f)\n",
        " print(p)"
      ],
      "metadata": {
        "colab": {
          "base_uri": "https://localhost:8080/"
        },
        "id": "HRLzhtVk-YC_",
        "outputId": "6efad121-fcf4-484e-c896-890380524474"
      },
      "execution_count": 15,
      "outputs": [
        {
          "output_type": "stream",
          "name": "stdout",
          "text": [
            "Arth is 19 years old\n"
          ]
        }
      ]
    },
    {
      "cell_type": "code",
      "source": [],
      "metadata": {
        "id": "X7dQ7WVI-oYP"
      },
      "execution_count": null,
      "outputs": []
    },
    {
      "cell_type": "code",
      "source": [],
      "metadata": {
        "id": "T4lWuqUU_zXa"
      },
      "execution_count": 16,
      "outputs": []
    }
  ]
}